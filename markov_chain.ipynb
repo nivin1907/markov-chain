{
  "nbformat": 4,
  "nbformat_minor": 0,
  "metadata": {
    "colab": {
      "provenance": [],
      "authorship_tag": "ABX9TyNOZ0Z8Xoh38flngsH2S55O",
      "include_colab_link": true
    },
    "kernelspec": {
      "name": "python3",
      "display_name": "Python 3"
    },
    "language_info": {
      "name": "python"
    }
  },
  "cells": [
    {
      "cell_type": "markdown",
      "metadata": {
        "id": "view-in-github",
        "colab_type": "text"
      },
      "source": [
        "<a href=\"https://colab.research.google.com/github/nivin1907/markov-chain/blob/main/markov_chain.ipynb\" target=\"_parent\"><img src=\"https://colab.research.google.com/assets/colab-badge.svg\" alt=\"Open In Colab\"/></a>"
      ]
    },
    {
      "cell_type": "code",
      "execution_count": null,
      "metadata": {
        "id": "o17VYOLHtVmY"
      },
      "outputs": [],
      "source": [
        "import re\n",
        "from collections import defaultdict,Counter"
      ]
    },
    {
      "cell_type": "code",
      "source": [
        "def build_markov_chain(text):\n",
        "  words = re.findall(r'\\w+',text)\n",
        "  markov_chain = defaultdict(Counter)\n",
        "\n",
        "  for i in range(len(words)-1):\n",
        "    current_word = words[i]\n",
        "    next_word = words[i+1]\n",
        "    markov_chain[current_word].update([next_word])\n",
        "\n",
        "  return markov_chain"
      ],
      "metadata": {
        "id": "hHD9894ut38U"
      },
      "execution_count": null,
      "outputs": []
    },
    {
      "cell_type": "code",
      "source": [
        "import random"
      ],
      "metadata": {
        "id": "9oX54lkDvDoQ"
      },
      "execution_count": null,
      "outputs": []
    },
    {
      "cell_type": "code",
      "source": [
        "def generate_text(markov_chain,seed_word,length):\n",
        "  current_word = seed_word\n",
        "  generated_text = [current_word]\n",
        "\n",
        "  for _ in range(length-1):\n",
        "    next_word = random.choices(list(markov_chain[current_word].keys()),list(markov_chain[current_word].values()))[0]\n",
        "    generated_text.append(next_word)\n",
        "    current_word = next_word\n",
        "\n",
        "  return ' '.join(generated_text)"
      ],
      "metadata": {
        "id": "2iyBI_1nvwE1"
      },
      "execution_count": null,
      "outputs": []
    },
    {
      "cell_type": "code",
      "source": [
        "input_text = open(\"text1.txt\").read()\n",
        "markov_chain = build_markov_chain(input_text)\n",
        "generated_text = generate_text(markov_chain,'mushroom',5)\n",
        "\n",
        "print(generated_text)"
      ],
      "metadata": {
        "colab": {
          "base_uri": "https://localhost:8080/"
        },
        "id": "i4ABMbThwPQA",
        "outputId": "a02e951d-6830-478a-e252-1c629dbad3ad"
      },
      "execution_count": 56,
      "outputs": [
        {
          "output_type": "stream",
          "name": "stdout",
          "text": [
            "mushroom is very close together\n"
          ]
        }
      ]
    }
  ]
}